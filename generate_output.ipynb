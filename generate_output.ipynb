{
 "cells": [
  {
   "cell_type": "code",
   "execution_count": 1,
   "metadata": {},
   "outputs": [],
   "source": [
    "import os\n",
    "import pandas as pd\n",
    "import glob \n",
    "# Function to parse a file and extract metrics\n",
    "def parse_file(file_path):\n",
    "    with open(file_path, 'r') as file:\n",
    "        lines = file.readlines()\n",
    "\n",
    "    metrics = {}\n",
    "    top_k = ''\n",
    "\n",
    "    for line in lines:\n",
    "        line = line.strip()\n",
    "        if line.startswith(\"Top\"):\n",
    "            top_k = line.split(' ')[1].strip()\n",
    "        else:\n",
    "            metric_name, metric_value = line.split(\":\")\n",
    "            metrics[f\"{metric_name}@{top_k}\"] = metric_value\n",
    "\n",
    "    return metrics\n"
   ]
  },
  {
   "cell_type": "code",
   "execution_count": 2,
   "metadata": {},
   "outputs": [],
   "source": [
    "# Initialize an empty DataFrame to store the data\n",
    "data = []\n",
    "modes = ['cold_start', 'add_noise', 'missing']\n",
    "# Directory path\n",
    "root_dir = \"./results\"\n",
    "\n",
    "# Iterate through the directory structure\n",
    "for model_name in os.listdir(root_dir):\n",
    "    model_dir = os.path.join(root_dir, model_name)\n",
    "    for dataset in os.listdir(model_dir):\n",
    "        dataset_dir = os.path.join(model_dir, dataset)\n",
    "        for sub_dir in os.listdir(dataset_dir):\n",
    "            for mode in modes:\n",
    "                if mode in sub_dir:\n",
    "                    exp_mode, percentage = mode, sub_dir.split(mode)[1].split('_')[-1]\n",
    "                    file_pattern = os.path.join(dataset_dir, sub_dir, \"*\", \"*-performance.txt\")\n",
    "                    # Use glob to list all files that match the pattern\n",
    "                    matching_files = glob.glob(file_pattern)\n",
    "                    if len(matching_files)== 0:\n",
    "                        continue \n",
    "                    else:\n",
    "                        if os.path.isfile(matching_files[0]):\n",
    "                            metrics = parse_file(matching_files[0])\n",
    "                            data.append([model_name, dataset, mode, percentage] + [\n",
    "                                metrics['Hit Ratio@10'], metrics['Precision@10'], metrics['Recall@10'], metrics['NDCG@10'], \n",
    "                                metrics['Hit Ratio@20'], metrics['Precision@20'], metrics['Recall@20'], metrics['NDCG@20'], \n",
    "                                metrics['Hit Ratio@40'], metrics['Precision@40'], metrics['Recall@40'], metrics['NDCG@40'], \n",
    "                            ])\n",
    "\n",
    "# Create a DataFrame\n",
    "df = pd.DataFrame(data, columns=[\"Model\", \"Dataset\", \"Mode\", \"Percentage\", \"Hit Ratio@10\", \"Precision@10\", \"Recall@10\", \"NDCG@10\",\n",
    "                                  \"Hit Ratio@20\", \"Precision@20\", \"Recall@20\", \"NDCG@20\", \"Hit Ratio@40\", \"Precision@40\", \"Recall@40\", \"NDCG@40\"])"
   ]
  },
  {
   "cell_type": "code",
   "execution_count": null,
   "metadata": {},
   "outputs": [],
   "source": [
    "df_ = df.sort_values(['Model', 'Dataset', 'Mode', 'Percentage','Hit Ratio@10'])\n",
    "df_ = df_.drop_duplicates(subset=['Model', 'Dataset', 'Mode', 'Percentage'], keep='last')"
   ]
  },
  {
   "cell_type": "code",
   "execution_count": 4,
   "metadata": {},
   "outputs": [],
   "source": [
    "# Save the DataFrame to a CSV file\n",
    "df_.to_csv(\"output_final_4.csv\", index=False)"
   ]
  },
  {
   "cell_type": "code",
   "execution_count": null,
   "metadata": {},
   "outputs": [],
   "source": []
  }
 ],
 "metadata": {
  "kernelspec": {
   "display_name": "hungvv",
   "language": "python",
   "name": "hungvv"
  },
  "language_info": {
   "codemirror_mode": {
    "name": "ipython",
    "version": 3
   },
   "file_extension": ".py",
   "mimetype": "text/x-python",
   "name": "python",
   "nbconvert_exporter": "python",
   "pygments_lexer": "ipython3",
   "version": "3.8.17"
  }
 },
 "nbformat": 4,
 "nbformat_minor": 2
}
