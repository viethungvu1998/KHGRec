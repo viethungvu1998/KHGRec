{
 "cells": [
  {
   "cell_type": "code",
   "execution_count": 1,
   "id": "468efc6d",
   "metadata": {
    "tags": []
   },
   "outputs": [
    {
     "name": "stderr",
     "output_type": "stream",
     "text": [
      "/home/jun/anaconda3/envs/hungvv/lib/python3.8/site-packages/tqdm/auto.py:21: TqdmWarning: IProgress not found. Please update jupyter and ipywidgets. See https://ipywidgets.readthedocs.io/en/stable/user_install.html\n",
      "  from .autonotebook import tqdm as notebook_tqdm\n"
     ]
    }
   ],
   "source": [
    "import math\n",
    "import torch\n",
    "import torch.nn as nn\n",
    "import torch.nn.functional as F\n",
    "from torch.nn.parameter import Parameter\n",
    "from torch.nn.init import xavier_normal_, xavier_uniform_\n",
    "import argparse\n",
    "import numpy as np\n",
    "import time\n",
    "import sys\n",
    "import pandas as pd\n",
    "from os.path import abspath\n",
    "\n",
    "# from base.graph_recommender import GraphRecommender\n",
    "from util.sampler import next_batch_pairwise_kg, next_batch_pairwise_kg_neg\n",
    "from util.conf import OptionConf\n",
    "import torch\n",
    "import torch.nn as nn \n",
    "import torch.nn.functional as F\n",
    "from scipy.sparse import coo_matrix\n",
    "from util.loss_torch import bpr_loss, l2_reg_loss, EmbLoss, contrastLoss, l2_reg_loss, triplet_loss\n",
    "from util.init import *\n",
    "from base.torch_interface import TorchGraphInterface\n",
    "import os\n",
    "import numpy as np \n",
    "import time \n",
    "from torch.optim.lr_scheduler import ReduceLROnPlateau\n",
    "from itertools import product\n",
    "\n",
    "from data.loader import FileIO\n",
    "from util.conf import ModelConf\n",
    "from base.recommender import Recommender\n",
    "from data.ui_graph import Interaction\n",
    "# from data.knowledge import Knowledge\n",
    "from util.algorithm import find_k_largest\n",
    "from time import strftime, localtime\n",
    "from data.loader import FileIO\n",
    "from util.evaluation import ranking_evaluation"
   ]
  },
  {
   "cell_type": "code",
   "execution_count": 2,
   "id": "4365d976",
   "metadata": {
    "tags": []
   },
   "outputs": [],
   "source": [
    "os.environ[\"TF_CPP_MIN_LOG_LEVEL\"] = \"3\"\n",
    "device = torch.device('cuda' if torch.cuda.is_available() else 'cpu')"
   ]
  },
  {
   "cell_type": "code",
   "execution_count": 3,
   "id": "cac47b4e",
   "metadata": {
    "scrolled": true
   },
   "outputs": [
    {
     "data": {
      "text/plain": [
       "device(type='cuda')"
      ]
     },
     "execution_count": 3,
     "metadata": {},
     "output_type": "execute_result"
    }
   ],
   "source": [
    "device"
   ]
  },
  {
   "cell_type": "markdown",
   "id": "9dbb0f97",
   "metadata": {
    "tags": []
   },
   "source": [
    "## Base Recommender"
   ]
  },
  {
   "cell_type": "code",
   "execution_count": 4,
   "id": "dc5eef39",
   "metadata": {
    "tags": []
   },
   "outputs": [],
   "source": [
    "class GraphRecommender(Recommender):\n",
    "    def __init__(self, conf, training_set, test_set, knowledge_set, **kwargs):\n",
    "        super(GraphRecommender, self).__init__(conf, training_set, test_set, knowledge_set, **kwargs)\n",
    "        self.data = Interaction(conf, training_set, test_set, knowledge_set, self.knowledge)\n",
    "        self.bestPerformance = []\n",
    "        top = self.ranking['-topN'].split(',')\n",
    "        self.topN = [int(num) for num in top]\n",
    "        self.max_N = max(self.topN)\n",
    "        \n",
    "        self.dataset = kwargs['dataset']\n",
    "        \n",
    "        self.output = f\"./results/{self.model_name}/{self.dataset}/@{self.model_name}-inp_emb:{kwargs['input_dim']}-hyper_emb:{kwargs['hyper_dim']}-bs:{self.batch_size}-lr:{kwargs['lr']}-lrd:{kwargs['lr_decay']}-reg:{kwargs['reg']}-leaky:{kwargs['p']}-dropout:{kwargs['drop_rate']}-n_layers:{kwargs['n_layers']}-n_heads:{kwargs['n_heads']}-n_self_att:{kwargs['n_self_att']}/\"\n",
    "        if not os.path.exists(self.output):\n",
    "            os.makedirs(self.output)\n",
    "\n",
    "    def print_model_info(self):\n",
    "        super(GraphRecommender, self).print_model_info()\n",
    "        # # print dataset statistics\n",
    "        print('Training Set Size: (user number: %d, item number %d, interaction number: %d)' % (self.data.training_size()))\n",
    "        print('Test Set Size: (user number: %d, item number %d, interaction number: %d)' % (self.data.test_size()))\n",
    "        print('=' * 80)\n",
    "\n",
    "    def build(self):\n",
    "        pass\n",
    "\n",
    "    def train(self):\n",
    "        pass\n",
    "\n",
    "    def predict(self, u):\n",
    "        pass\n",
    "\n",
    "    def test(self, user_emb, item_emb):\n",
    "        def process_bar(num, total):\n",
    "            rate = float(num) / total\n",
    "            ratenum = int(50 * rate)\n",
    "            r = '\\rProgress: [{}{}]{}%'.format('+' * ratenum, ' ' * (50 - ratenum), ratenum*2)\n",
    "            sys.stdout.write(r)\n",
    "            sys.stdout.flush()\n",
    "\n",
    "        # predict\n",
    "        rec_list = {}\n",
    "        user_count = len(self.data.test_set)\n",
    "        for i, user in enumerate(self.data.test_set):\n",
    "            # s_find_candidates = time.time()\n",
    "            \n",
    "            # candidates = predict(user)\n",
    "            user_id  = self.data.get_user_id(user)\n",
    "            score = torch.matmul(user_emb[user_id], item_emb.transpose(0, 1))\n",
    "            candidates = score.cpu().numpy()\n",
    "            \n",
    "            # e_find_candidates = time.time()\n",
    "            # print(\"Calculate candidates time: %f s\" % (e_find_candidates - s_find_candidates))\n",
    "            # predictedItems = denormalize(predictedItems, self.data.rScale[-1], self.data.rScale[0])\n",
    "            rated_list, li = self.data.user_rated(user)\n",
    "            for item in rated_list:\n",
    "                candidates[self.data.item[item]] = -10e8\n",
    "            \n",
    "            # s_find_k_largest = time.time()\n",
    "            ids, scores = find_k_largest(self.max_N, candidates)\n",
    "            # e_find_k_largest = time.time()\n",
    "            # print(\"Find k largest candidates: %f s\" % (e_find_k_largest - s_find_k_largest))\n",
    "            item_names = [self.data.id2item[iid] for iid in ids]\n",
    "            rec_list[user] = list(zip(item_names, scores))\n",
    "            if i % 1000 == 0:\n",
    "                process_bar(i, user_count)\n",
    "        process_bar(user_count, user_count)\n",
    "        print('')\n",
    "        return rec_list\n",
    "\n",
    "    def evaluate(self, rec_list):\n",
    "        self.recOutput.append('userId: recommendations in (itemId, ranking score) pairs, * means the item is hit.\\n')\n",
    "        for user in self.data.test_set:\n",
    "            line = str(user) + ':'\n",
    "            for item in rec_list[user]:\n",
    "                line += ' (' + str(item[0]) + ',' + str(item[1]) + ')'\n",
    "                if item[0] in self.data.test_set[user]:\n",
    "                    line += '*'\n",
    "            line += '\\n'\n",
    "            self.recOutput.append(line)\n",
    "        current_time = strftime(\"%Y-%m-%d %H-%M-%S\", localtime(time.time()))\n",
    "        # output prediction result\n",
    "        out_dir = self.output\n",
    "        # out_dir = self.output['-dir']\n",
    "        file_name = self.config['model.name'] + '@' + current_time + '-top-' + str(self.max_N) + 'items' + '.txt'\n",
    "        FileIO.write_file(out_dir, file_name, self.recOutput)\n",
    "        print('The result has been output to ', abspath(out_dir), '.')\n",
    "        file_name = self.config['model.name'] + '@' + current_time + '-performance' + '.txt'\n",
    "        self.result = ranking_evaluation(self.data.test_set, rec_list, self.topN)\n",
    "        self.model_log.add('###Evaluation Results###')\n",
    "        self.model_log.add(self.result)\n",
    "        FileIO.write_file(out_dir, file_name, self.result)\n",
    "        print('The result of %s:\\n%s' % (self.model_name, ''.join(self.result)))\n",
    "\n",
    "    def fast_evaluation(self, model, epoch, user_emb, item_emb, kwargs=None):\n",
    "        print('Evaluating the model...')\n",
    "        s_test = time.time()\n",
    "        rec_list = self.test(user_emb, item_emb)\n",
    "        e_test = time.time() \n",
    "        print(\"Test time: %f s\" % (e_test - s_test))\n",
    "        \n",
    "        s_measure = time.time()\n",
    "        all_measures = ranking_evaluation(self.data.test_set, rec_list, self.topN)\n",
    "        len_measures = len(self.topN)\n",
    "        lst_res = []\n",
    "    \n",
    "        data_ep = {}\n",
    "        data_ep['epoch'] = epoch\n",
    "        for i in range(0, len(all_measures), 5):\n",
    "            mes = all_measures[i:i+5]\n",
    "            topk = int(mes[0].split(' ')[1][:-1])\n",
    "            hitk = float(mes[1].split(':')[1][:-1])\n",
    "            preck = float(mes[2].split(':')[1][:-1])\n",
    "            reck = float(mes[3].split(':')[1][:-1])\n",
    "            ndcgk = float(mes[4].split(':')[1][:-1])\n",
    "            data_ep[f'hit@{topk}'] = hitk\n",
    "            data_ep[f'precision@{topk}'] = preck\n",
    "            data_ep[f'recall@{topk}'] = reck\n",
    "            data_ep[f'ndcg@{topk}'] = ndcgk\n",
    "\n",
    "        measure = all_measures[(len_measures - 1) * 5: (len_measures - 1) * 5 + 5]\n",
    "        e_measure = time.time()\n",
    "        print(\"Measure time: %f s\" % (e_measure - s_measure))\n",
    "        if len(self.bestPerformance) > 0:\n",
    "            count = 0\n",
    "            performance = {}\n",
    "            for m in measure[1:]:\n",
    "                k, v = m.strip().split(':')\n",
    "                performance[k] = float(v)\n",
    "            for k in self.bestPerformance[1]:\n",
    "                if self.bestPerformance[1][k] > performance[k]:\n",
    "                    count += 1\n",
    "                else:\n",
    "                    count -= 1\n",
    "            if count < 0:\n",
    "                self.bestPerformance[1] = performance\n",
    "                self.bestPerformance[0] = epoch + 1\n",
    "                self.save(model)\n",
    "        else:\n",
    "            self.bestPerformance.append(epoch + 1)\n",
    "            performance = {}\n",
    "            for m in measure[1:]:\n",
    "                k, v = m.strip().split(':')\n",
    "                performance[k] = float(v)\n",
    "            self.bestPerformance.append(performance)\n",
    "            self.save(model)\n",
    "\n",
    "        print('-' * 120)\n",
    "        print('Real-Time Ranking Performance ' + ' (Top-' + str(self.max_N) + ' Item Recommendation)')\n",
    "        measure = [m.strip() for m in measure[1:]]\n",
    "        print('*Current Performance*')\n",
    "        print('Epoch:', str(epoch + 1) + ',', '  |  '.join(measure))\n",
    "        bp = ''\n",
    "        # for k in self.bestPerformance[1]:\n",
    "        #     bp+=k+':'+str(self.bestPerformance[1][k])+' | '\n",
    "        bp += 'Hit Ratio' + ':' + str(self.bestPerformance[1]['Hit Ratio']) + '  |  '\n",
    "        bp += 'Precision' + ':' + str(self.bestPerformance[1]['Precision']) + '  |  '\n",
    "        bp += 'Recall' + ':' + str(self.bestPerformance[1]['Recall']) + '  |  '\n",
    "        # bp += 'F1' + ':' + str(self.bestPerformance[1]['F1']) + ' | '\n",
    "        bp += 'NDCG' + ':' + str(self.bestPerformance[1]['NDCG'])\n",
    "        print('*Best Performance* ')\n",
    "        print('Epoch:', str(self.bestPerformance[0]) + ',', bp)\n",
    "        print('-' * 120)\n",
    "        return measure, data_ep\n",
    "    \n",
    "    def save(self, model):\n",
    "        with torch.no_grad():\n",
    "            self.best_user_emb, self.best_item_emb, _ = model()\n",
    "        self.save_model(model)\n",
    "    \n",
    "    def save_model(self, model):\n",
    "        # save model \n",
    "        current_time = strftime(\"%Y-%m-%d\", localtime(time.time()))\n",
    "        out_dir = self.output\n",
    "        file_name =  self.config['model.name'] + '@' + current_time + '-weight' + '.pth'\n",
    "        weight_file = out_dir + '/' + file_name \n",
    "        torch.save(model.state_dict(), weight_file)\n",
    "\n",
    "    def save_loss(self, train_losses, rec_losses, reg_losses):\n",
    "        df_train_loss = pd.DataFrame(train_losses, columns = ['ep', 'loss'])\n",
    "        df_rec_loss = pd.DataFrame(rec_losses, columns = ['ep', 'loss'])\n",
    "        df_reg_loss = pd.DataFrame(reg_losses, columns = ['ep', 'loss'])\n",
    "        df_train_loss.to_csv(self.output + '/train_loss.csv')\n",
    "        df_rec_loss.to_csv(self.output + '/rec_loss.csv')\n",
    "        df_reg_loss.to_csv(self.output + '/reg_loss.csv')\n",
    "\n",
    "    def save_perfomance_training(self, log_train):\n",
    "        df_train_log = pd.DataFrame(log_train)\n",
    "        df_train_log.to_csv(self.output + '/train_performance.csv')"
   ]
  },
  {
   "cell_type": "markdown",
   "id": "c68fb744",
   "metadata": {
    "tags": []
   },
   "source": [
    "## Layers"
   ]
  },
  {
   "cell_type": "code",
   "execution_count": 5,
   "id": "8f9574a3",
   "metadata": {
    "tags": []
   },
   "outputs": [],
   "source": [
    "class HGNNConv(nn.Module):\n",
    "    def __init__(self, leaky, input_dim, hyper_dim, bias=False):\n",
    "        super(HGNNConv, self).__init__()\n",
    "        self.hyper_dim = hyper_dim\n",
    "        self.act = nn.LeakyReLU(negative_slope=leaky)\n",
    "        self.fc1 = nn.Linear(input_dim, hyper_dim ,bias=False) \n",
    "        self.fc2 = nn.Linear(hyper_dim, hyper_dim ,bias=False)  \n",
    "        self.fc3 = nn.Linear(hyper_dim, hyper_dim ,bias=False)  \n",
    "        \n",
    "        self.ln1 = torch.nn.LayerNorm(hyper_dim)\n",
    "        self.ln2 = torch.nn.LayerNorm(hyper_dim)\n",
    "        self.ln3 = torch.nn.LayerNorm(hyper_dim)\n",
    "        self.ln4 = torch.nn.LayerNorm(hyper_dim)\n",
    "        if bias:\n",
    "            self.bias = nn.Parameter(torch.FloatTensor(hyper_dim))\n",
    "        else:\n",
    "            self.register_parameter('bias', None)\n",
    "        self.reset_parameters()\n",
    "        \n",
    "    def reset_parameters(self):\n",
    "        if self.bias is not None:\n",
    "            self.bias.data.uniform_(-stdv, stdv)\n",
    "\n",
    "    def forward(self, adj, embeds):\n",
    "        lat1 = self.act(adj.T @ embeds)\n",
    "        lat1 = self.ln1(lat1)\n",
    "\n",
    "        lat2 = self.act(self.fc1(lat1)) +  lat1\n",
    "        lat2 = self.ln2(lat2)\n",
    "        \n",
    "        lat3 = self.act(self.fc2(lat2)) + lat2\n",
    "        lat3 = self.ln3(lat3)\n",
    "        \n",
    "        lat4 = self.act(self.fc3(lat3)) + lat3 \n",
    "        output = adj @ lat4\n",
    "        if self.bias is not None:\n",
    "            output += self.bias \n",
    "        output = self.ln4(output)\n",
    "        ret = self.act(output)\n",
    "        return ret"
   ]
  },
  {
   "cell_type": "markdown",
   "id": "7280f55f",
   "metadata": {
    "tags": []
   },
   "source": [
    "## Model"
   ]
  },
  {
   "cell_type": "code",
   "execution_count": 6,
   "id": "6346ae7a",
   "metadata": {
    "tags": []
   },
   "outputs": [],
   "source": [
    "class Model(nn.Module):\n",
    "    def __init__(self, config, data, args):\n",
    "        super(Model, self).__init__()\n",
    "        self.data = data\n",
    "        adj = data.interaction_mat\n",
    "        kg_adj = data.kg_interaction_mat\n",
    "        self.adj  = TorchGraphInterface.convert_sparse_mat_to_tensor(adj).to_dense().to(device)\n",
    "        self.kg_adj = TorchGraphInterface.convert_sparse_mat_to_tensor(kg_adj).to_dense().to(device)\n",
    "        \n",
    "        self._parse_args(args)\n",
    "        self.embedding_dict = self._init_model()\n",
    "        \n",
    "        self.fc_u = nn.Linear(self.input_dim, self.hyper_dim)\n",
    "        self.fc_i = nn.Linear(self.input_dim, self.hyper_dim)\n",
    "        self.fc_e = nn.Linear(self.input_dim, self.hyper_dim)\n",
    "        \n",
    "        self.hgnn_u =  HGNNConv(leaky=self.p, input_dim=self.hyper_dim, hyper_dim=self.hyper_dim)\n",
    "        self.hgnn_i = HGNNConv(leaky=self.p, input_dim=self.hyper_dim, hyper_dim=self.hyper_dim)\n",
    "        self.hgnn_e = HGNNConv(leaky=self.p, input_dim=self.hyper_dim, hyper_dim=self.hyper_dim)\n",
    "        \n",
    "        self.non_linear = nn.ReLU()\n",
    "        self.dropout = nn.Dropout(self.drop_rate)\n",
    "        \n",
    "    def _parse_args(self, args):\n",
    "        self.input_dim = args['input_dim']\n",
    "        self.hyper_dim = args['hyper_dim']\n",
    "        self.p = args['p']\n",
    "        self.drop_rate = args['drop_rate'] \n",
    "        self.layers = args['n_layers']\n",
    "    \n",
    "    def _init_model(self):\n",
    "        initializer = nn.init.xavier_uniform_\n",
    "        embedding_dict = nn.ParameterDict({\n",
    "            'user_emb': nn.Parameter(initializer(torch.empty(self.data.user_num, self.input_dim)).to(device)),\n",
    "            'item_emb': nn.Parameter(initializer(torch.empty(self.data.item_num, self.input_dim)).to(device)),\n",
    "            'entity_emb': nn.Parameter(initializer(torch.empty(self.data.entity_num, self.input_dim)).to(device))\n",
    "        })\n",
    "        return embedding_dict\n",
    "\n",
    "    def forward(self):\n",
    "        uEmbed = self.embedding_dict['user_emb']\n",
    "        iEmbed = self.embedding_dict['item_emb']\n",
    "        eEmbed = self.embedding_dict['entity_emb']\n",
    "        \n",
    "        uEmbed = self.dropout(self.non_linear(self.fc_u(uEmbed)))\n",
    "        iEmbed = self.dropout(self.non_linear(self.fc_i(iEmbed)))\n",
    "        eEmbed = self.dropout(self.non_linear(self.fc_e(eEmbed)))\n",
    "        \n",
    "        embeds = torch.cat([uEmbed, iEmbed, eEmbed], 0)\n",
    "        all_embeddings = [embeds]\n",
    "        \n",
    "        for k in range(self.layers):\n",
    "            # ego_embeddings = torch.sparse.mm(self.sparse_norm_adj, ego_embeddings)\n",
    "            hyperULat = self.hgnn_u(self.adj, uEmbed)\n",
    "            hyperILat1 = self.hgnn_i(self.adj.T, iEmbed)\n",
    "            hyperILat2 = self.hgnn_e(self.kg_adj, iEmbed)\n",
    "            hyperILat = sum([hyperILat1, hyperILat2])\n",
    "            \n",
    "            hyperELat = self.hgnn_e(self.kg_adj.T, eEmbed)\n",
    "\n",
    "            ego_embeddings = torch.cat([hyperULat, hyperILat, hyperELat], dim=0)\n",
    "            all_embeddings += [ego_embeddings]\n",
    "            \n",
    "        all_embeddings = torch.stack(all_embeddings, dim=1)\n",
    "        all_embeddings = torch.mean(all_embeddings, dim=1)\n",
    "        user_all_embeddings = all_embeddings[:self.data.user_num]\n",
    "        item_all_embeddings = all_embeddings[self.data.user_num:self.data.user_num+ self.data.item_num]\n",
    "        entity_all_embeddings = all_embeddings[self.data.user_num+ self.data.item_num:]\n",
    "        \n",
    "        return user_all_embeddings, item_all_embeddings, entity_all_embeddings\n"
   ]
  },
  {
   "cell_type": "markdown",
   "id": "9a1f87c4",
   "metadata": {},
   "source": [
    "## Loss"
   ]
  },
  {
   "cell_type": "code",
   "execution_count": 7,
   "id": "8e80c2d5",
   "metadata": {
    "tags": []
   },
   "outputs": [],
   "source": [
    "def calculate_loss(anchor_emb, pos_emb, neg_emb, batch_size, reg):\n",
    "    calc_reg_loss = EmbLoss()\n",
    "    rec_loss = bpr_loss(anchor_emb, pos_emb, neg_emb)\n",
    "    import pdb; pdb.set_trace()\n",
    "    reg_loss = reg * calc_reg_loss(anchor_emb, pos_emb, neg_emb) / batch_size\n",
    "    return rec_loss, reg_loss \n",
    "\n",
    "def calculate_kg_loss(anchor_emb, pos_emb, neg_emb, batch_size, reg):\n",
    "    calc_reg_loss = EmbLoss()\n",
    "    rec_loss = triplet_loss(anchor_emb, pos_emb, neg_emb)\n",
    "    reg_loss = reg * calc_reg_loss(anchor_emb, pos_emb, neg_emb) / batch_size\n",
    "    return rec_loss, reg_loss \n"
   ]
  },
  {
   "cell_type": "code",
   "execution_count": 8,
   "id": "45a91cdb",
   "metadata": {
    "tags": []
   },
   "outputs": [],
   "source": [
    "def predict(u, rec, user_emb, item_emb):\n",
    "    user_id  = rec.data.get_user_id(u)\n",
    "    score = torch.matmul(user_emb[user_id], item_emb.transpose(0, 1))\n",
    "    return score.cpu().numpy()  "
   ]
  },
  {
   "cell_type": "markdown",
   "id": "2080f56a",
   "metadata": {},
   "source": [
    "## Train"
   ]
  },
  {
   "cell_type": "code",
   "execution_count": 9,
   "id": "9c4024c0",
   "metadata": {
    "tags": []
   },
   "outputs": [],
   "source": [
    "def train():\n",
    "    lst_train_losses = []\n",
    "    lst_rec_losses = []\n",
    "    lst_reg_losses = []\n",
    "    lst_performances = []\n",
    "\n",
    "    for ep in range(maxEpoch):\n",
    "        train_losses = []\n",
    "        rec_losses = []\n",
    "        reg_losses = []\n",
    "\n",
    "        \n",
    "        for n, batch in enumerate(next_batch_pairwise_kg_neg(rec.data, batchSize)):\n",
    "            user_idx, pos_idx, neg_idx, anchor_i_idx, e_idx, e_idx_neg = batch\n",
    "            train_model.train()\n",
    "            user_emb, item_emb, entity_emb = train_model()\n",
    "            anchor_emb = user_emb[user_idx]\n",
    "            pos_emb = item_emb[pos_idx]\n",
    "            neg_emb = item_emb[neg_idx]\n",
    "            anchor_i_emb = item_emb[anchor_i_idx]\n",
    "            ent_emb = entity_emb[e_idx]\n",
    "            ent_emb_neg = entity_emb[e_idx_neg]\n",
    "            rec_loss, reg_loss = calculate_loss(anchor_emb, pos_emb, neg_emb, batchSize, reg)\n",
    "            kg_loss, reg_kg_loss = calculate_kg_loss(anchor_i_emb, ent_emb, ent_emb_neg, batchSize, reg)\n",
    "            # ssl_loss = calculate_ssl_loss()\n",
    "            \n",
    "            batch_loss = rec_loss + reg_loss + kg_loss + reg_kg_loss\n",
    "            \n",
    "            train_losses.append(batch_loss.item())\n",
    "            rec_losses.append(rec_loss.item())\n",
    "            reg_losses.append(reg_loss.item())\n",
    "            optimizer.zero_grad()\n",
    "            batch_loss.backward()\n",
    "            torch.nn.utils.clip_grad_norm_(train_model.parameters(), 4)\n",
    "            optimizer.step()\n",
    "\n",
    "        batch_train_loss = np.mean(train_losses)\n",
    "        scheduler.step(batch_train_loss)\n",
    "        \n",
    "        train_loss = np.mean(train_losses)\n",
    "        rec_loss = np.mean(rec_losses)\n",
    "        reg_loss = np.mean(reg_losses)\n",
    "\n",
    "        lst_train_losses.append([ep, train_loss])\n",
    "        lst_rec_losses.append([ep,rec_loss])\n",
    "        lst_reg_losses.append([ep, reg_loss])\n",
    "\n",
    "        # Evaluation\n",
    "        train_model.eval()\n",
    "        with torch.no_grad():\n",
    "            user_emb, item_emb, _ = train_model()\n",
    "#         rec.fast_evaluation(ep, user_emb, item_emb)\n",
    "            _, data_ep = rec.fast_evaluation(train_model, ep, user_emb, item_emb)\n",
    "        lst_performances.append(data_ep)\n",
    "\n",
    "    rec.save_loss(lst_train_losses, lst_rec_losses, lst_reg_losses)\n",
    "    rec.save_perfomance_training(lst_performances)\n",
    "    user_emb, item_emb = rec.best_user_emb, rec.best_item_emb\n",
    "    return user_emb, item_emb"
   ]
  },
  {
   "cell_type": "markdown",
   "id": "081217e7",
   "metadata": {
    "jp-MarkdownHeadingCollapsed": true,
    "tags": []
   },
   "source": [
    "## Test"
   ]
  },
  {
   "cell_type": "code",
   "execution_count": 10,
   "id": "184d99a9",
   "metadata": {
    "tags": []
   },
   "outputs": [],
   "source": [
    "def test(rec, user_emb, item_emb):\n",
    "    def process_bar(num, total):\n",
    "        rate = float(num) / total\n",
    "        ratenum = int(50 * rate)\n",
    "        r = '\\rProgress: [{}{}]{}%'.format('+' * ratenum, ' ' * (50 - ratenum), ratenum*2)\n",
    "        sys.stdout.write(r)\n",
    "        sys.stdout.flush()\n",
    "\n",
    "    # predict\n",
    "    rec_list = {}\n",
    "    user_count = len(rec.data.test_set)\n",
    "    for i, user in enumerate(rec.data.test_set):\n",
    "        # s_find_candidates = time.time()\n",
    "        candidates = predict(user, rec, user_emb, item_emb)\n",
    "        # e_find_candidates = time.time()\n",
    "        # print(\"Calculate candidates time: %f s\" % (e_find_candidates - s_find_candidates))\n",
    "        # predictedItems = denormalize(predictedItems, self.data.rScale[-1], self.data.rScale[0])\n",
    "        rated_list, li = rec.data.user_rated(user)\n",
    "        for item in rated_list:\n",
    "            candidates[rec.data.item[item]] = -10e8\n",
    "\n",
    "        # s_find_k_largest = time.time()\n",
    "        ids, scores = find_k_largest(rec.max_N, candidates)\n",
    "        # e_find_k_largest = time.time()\n",
    "        # print(\"Find k largest candidates: %f s\" % (e_find_k_largest - s_find_k_largest))\n",
    "        item_names = [rec.data.id2item[iid] for iid in ids]\n",
    "        rec_list[user] = list(zip(item_names, scores))\n",
    "        if i % 1000 == 0:\n",
    "            process_bar(i, user_count)\n",
    "    process_bar(user_count, user_count)\n",
    "    print('')\n",
    "    rec.evaluate(rec_list)"
   ]
  },
  {
   "cell_type": "markdown",
   "id": "1a4d97fa",
   "metadata": {
    "tags": []
   },
   "source": [
    "## Main"
   ]
  },
  {
   "cell_type": "code",
   "execution_count": 11,
   "id": "a92d19f6",
   "metadata": {
    "tags": []
   },
   "outputs": [],
   "source": [
    "model = 'HGNN'\n",
    "if model not in ['HGNN', 'LightGCN']:\n",
    "    print(\"No model found.\")\n",
    "config = ModelConf('./conf/' + model + '.conf')\n",
    "\n",
    "dataset = 'ml-1m'\n",
    "batchSize = int(config['batch_size'])\n",
    "# lRate = float(config['learnRate'])\n",
    "# maxEpoch = int(config['num.max.epoch'])\n",
    "# reg = float(config['reg.lambda'])\n",
    "maxEpoch = 500\n",
    "lRates = [0.01]\n",
    "lrDecays = [0.9]\n",
    "regs = [0.1]\n",
    "hyperDims = [32]\n",
    "inputDims = [32]\n",
    "ps = [0.4]\n",
    "dropRates = [0.3]\n",
    "nLayers = [2]\n",
    "nHeads = [1]\n",
    "nSelfAtt = [1]\n",
    "\n",
    "if dataset == 'lastfm':\n",
    "    training_set = \"./dataset/lastfm/train.txt\"\n",
    "    test_set = './dataset/lastfm/test.txt'\n",
    "    knowledge_data='./dataset/lastfm/processed/lastfm.kg'\n",
    "\n",
    "elif dataset == 'ml-1m':\n",
    "    training_set = './dataset/ml-1m/train.txt'\n",
    "    test_set = './dataset/ml-1m/test.txt'\n",
    "    knowledge_data ='./dataset/ml-1m/processed/ml-1m.kg'\n",
    "hyperparameters = [lRates, lrDecays, regs, hyperDims, inputDims, ps, dropRates, nLayers, nHeads, nSelfAtt]"
   ]
  },
  {
   "cell_type": "code",
   "execution_count": null,
   "id": "f3591b70-5e0a-4e2a-b60e-c841f54fcc89",
   "metadata": {},
   "outputs": [],
   "source": []
  },
  {
   "cell_type": "code",
   "execution_count": null,
   "id": "005f0ca1",
   "metadata": {
    "tags": []
   },
   "outputs": [
    {
     "name": "stdout",
     "output_type": "stream",
     "text": [
      "(0.01, 0.9, 0.1, 32, 32, 0.4, 0.3, 2, 1, 1)\n",
      "Loading the dataset ml-1m ....\n",
      "constructing knowledge graph ...\n"
     ]
    },
    {
     "name": "stderr",
     "output_type": "stream",
     "text": [
      "/mnt/disk1/hungvv/recommender/SELFRec/base/torch_interface.py:10: UserWarning: Creating a tensor from a list of numpy.ndarrays is extremely slow. Please consider converting the list to a single numpy.ndarray with numpy.array() before converting to a tensor. (Triggered internally at  ../torch/csrc/utils/tensor_new.cpp:204.)\n",
      "  i = torch.LongTensor([coo.row, coo.col])\n"
     ]
    },
    {
     "name": "stdout",
     "output_type": "stream",
     "text": [
      "> \u001b[0;32m/tmp/ipykernel_14027/3025308536.py\u001b[0m(5)\u001b[0;36mcalculate_loss\u001b[0;34m()\u001b[0m\n",
      "\u001b[0;32m      3 \u001b[0;31m    \u001b[0mrec_loss\u001b[0m \u001b[0;34m=\u001b[0m \u001b[0mbpr_loss\u001b[0m\u001b[0;34m(\u001b[0m\u001b[0manchor_emb\u001b[0m\u001b[0;34m,\u001b[0m \u001b[0mpos_emb\u001b[0m\u001b[0;34m,\u001b[0m \u001b[0mneg_emb\u001b[0m\u001b[0;34m)\u001b[0m\u001b[0;34m\u001b[0m\u001b[0;34m\u001b[0m\u001b[0m\n",
      "\u001b[0m\u001b[0;32m      4 \u001b[0;31m    \u001b[0;32mimport\u001b[0m \u001b[0mpdb\u001b[0m\u001b[0;34m;\u001b[0m \u001b[0mpdb\u001b[0m\u001b[0;34m.\u001b[0m\u001b[0mset_trace\u001b[0m\u001b[0;34m(\u001b[0m\u001b[0;34m)\u001b[0m\u001b[0;34m\u001b[0m\u001b[0;34m\u001b[0m\u001b[0m\n",
      "\u001b[0m\u001b[0;32m----> 5 \u001b[0;31m    \u001b[0mreg_loss\u001b[0m \u001b[0;34m=\u001b[0m \u001b[0mreg\u001b[0m \u001b[0;34m*\u001b[0m \u001b[0mcalc_reg_loss\u001b[0m\u001b[0;34m(\u001b[0m\u001b[0manchor_emb\u001b[0m\u001b[0;34m,\u001b[0m \u001b[0mpos_emb\u001b[0m\u001b[0;34m,\u001b[0m \u001b[0mneg_emb\u001b[0m\u001b[0;34m)\u001b[0m \u001b[0;34m/\u001b[0m \u001b[0mbatch_size\u001b[0m\u001b[0;34m\u001b[0m\u001b[0;34m\u001b[0m\u001b[0m\n",
      "\u001b[0m\u001b[0;32m      6 \u001b[0;31m    \u001b[0;32mreturn\u001b[0m \u001b[0mrec_loss\u001b[0m\u001b[0;34m,\u001b[0m \u001b[0mreg_loss\u001b[0m\u001b[0;34m\u001b[0m\u001b[0;34m\u001b[0m\u001b[0m\n",
      "\u001b[0m\u001b[0;32m      7 \u001b[0;31m\u001b[0;34m\u001b[0m\u001b[0m\n",
      "\u001b[0m\n"
     ]
    },
    {
     "name": "stdin",
     "output_type": "stream",
     "text": [
      "ipdb>  rec_loss\n"
     ]
    },
    {
     "name": "stdout",
     "output_type": "stream",
     "text": [
      "tensor(0.7799, device='cuda:0', grad_fn=<MeanBackward0>)\n"
     ]
    },
    {
     "name": "stdin",
     "output_type": "stream",
     "text": [
      "ipdb>  anchor_emb\n"
     ]
    },
    {
     "name": "stdout",
     "output_type": "stream",
     "text": [
      "tensor([[ 0.7286,  0.8061,  0.1943,  ..., -0.1815,  0.7304, -0.3490],\n",
      "        [ 0.7218,  0.7957,  0.1936,  ..., -0.1890,  0.7257, -0.3456],\n",
      "        [ 0.7334,  0.7975,  0.1834,  ..., -0.1919,  0.7332, -0.3445],\n",
      "        ...,\n",
      "        [ 0.7296,  0.7634,  0.1934,  ..., -0.1813,  0.7532, -0.3481],\n",
      "        [ 0.7439,  0.7923,  0.1916,  ..., -0.1900,  0.7319, -0.3482],\n",
      "        [ 0.7410,  0.8023,  0.1830,  ..., -0.2260,  0.7383, -0.3485]],\n",
      "       device='cuda:0', grad_fn=<IndexBackward0>)\n"
     ]
    },
    {
     "name": "stdin",
     "output_type": "stream",
     "text": [
      "ipdb>  pos_emb\n"
     ]
    },
    {
     "name": "stdout",
     "output_type": "stream",
     "text": [
      "tensor([[-0.3542,  0.0543,  0.5260,  ...,  0.1417,  0.8331,  0.1332],\n",
      "        [-0.3426, -0.0176,  0.7020,  ...,  0.1775,  0.6796,  0.2268],\n",
      "        [-0.3839,  0.0031,  0.4773,  ...,  0.2972,  0.8157,  0.2457],\n",
      "        ...,\n",
      "        [-0.3436,  0.0271,  0.4931,  ...,  0.1661,  0.9383,  0.2126],\n",
      "        [-0.3720, -0.0095,  0.4915,  ...,  0.1802,  0.9969,  0.1064],\n",
      "        [-0.3602,  0.0705,  0.5837,  ...,  0.1929,  0.5702,  0.1303]],\n",
      "       device='cuda:0', grad_fn=<IndexBackward0>)\n"
     ]
    },
    {
     "name": "stdin",
     "output_type": "stream",
     "text": [
      "ipdb>  neg_emb\n"
     ]
    },
    {
     "name": "stdout",
     "output_type": "stream",
     "text": [
      "tensor([[-2.8699e-01,  2.3586e-02,  5.0323e-01,  ...,  1.7525e-01,\n",
      "          7.8978e-01,  4.5426e-02],\n",
      "        [-5.0984e-01,  1.7187e-02,  3.9730e-01,  ...,  4.5838e-01,\n",
      "          1.1912e+00,  3.0617e-01],\n",
      "        [-3.7627e-01,  4.5642e-02,  6.3731e-01,  ...,  2.6321e-01,\n",
      "          7.7763e-01,  2.3000e-01],\n",
      "        ...,\n",
      "        [-4.5488e-01,  1.1800e-01,  4.8396e-01,  ...,  4.0377e-01,\n",
      "          6.8410e-01,  2.3730e-01],\n",
      "        [-4.2343e-01, -4.7591e-02,  7.3584e-01,  ...,  3.4726e-01,\n",
      "          9.3052e-01,  1.9712e-01],\n",
      "        [-2.1362e-01,  9.5610e-04,  5.5814e-01,  ...,  1.8817e-01,\n",
      "          5.1772e-01,  3.1221e-01]], device='cuda:0', grad_fn=<IndexBackward0>)\n"
     ]
    },
    {
     "name": "stdin",
     "output_type": "stream",
     "text": [
      "ipdb>  torch.mul(user_emb, pos_item_emb).sum(dim=1)\n"
     ]
    },
    {
     "name": "stdout",
     "output_type": "stream",
     "text": [
      "*** NameError: name 'user_emb' is not defined\n"
     ]
    },
    {
     "name": "stdin",
     "output_type": "stream",
     "text": [
      "ipdb>  torch.mul(anchor_emb, pos_emb).sum(dim=1)\n"
     ]
    },
    {
     "name": "stdout",
     "output_type": "stream",
     "text": [
      "tensor([ 0.2212,  0.0121,  0.5394,  ..., -0.0815,  0.4780,  0.2498],\n",
      "       device='cuda:0', grad_fn=<SumBackward1>)\n"
     ]
    }
   ],
   "source": [
    "for params in product(*hyperparameters):\n",
    "    lr, lr_decay, reg, hyper_dim, input_dim, prob, drop_rate, n_layers, n_heads, n_self_att = params\n",
    "    print(params)\n",
    "    args = {\n",
    "        'lr': lr,\n",
    "        'lr_decay': lr_decay,\n",
    "        'reg': reg,\n",
    "        'hyper_dim': hyper_dim,\n",
    "        'input_dim': input_dim,\n",
    "        'p': prob,\n",
    "        'drop_rate': drop_rate,\n",
    "        'n_layers': n_layers,\n",
    "        'input_dim': input_dim,\n",
    "        'hyper_dim': hyper_dim,\n",
    "        'n_heads': n_heads,\n",
    "        'n_self_att': n_self_att,\n",
    "        'dataset': dataset\n",
    "    }\n",
    "    training_data = FileIO.load_data_set(training_set, config['model.type'])\n",
    "    test_data = FileIO.load_data_set(test_set, config['model.type'])\n",
    "    knowledge_set = FileIO.load_kg_data(knowledge_data)\n",
    "\n",
    "    rec = GraphRecommender(config, training_data, test_data, knowledge_set, **args)\n",
    "    train_model = Model(rec.config, rec.data, args).to(device)\n",
    "    optimizer  = torch.optim.Adam(train_model.parameters(), lr=lr)\n",
    "    scheduler = ReduceLROnPlateau(optimizer, 'min', factor=lr_decay, patience=5)\n",
    "    user_emb, item_emb = train()\n",
    "    test(rec, user_emb, item_emb)\n",
    "    \n",
    "    "
   ]
  }
 ],
 "metadata": {
  "kernelspec": {
   "display_name": "hungvv",
   "language": "python",
   "name": "hungvv"
  },
  "language_info": {
   "codemirror_mode": {
    "name": "ipython",
    "version": 3
   },
   "file_extension": ".py",
   "mimetype": "text/x-python",
   "name": "python",
   "nbconvert_exporter": "python",
   "pygments_lexer": "ipython3",
   "version": "3.8.16"
  }
 },
 "nbformat": 4,
 "nbformat_minor": 5
}
