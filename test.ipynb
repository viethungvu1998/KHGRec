{
 "cells": [
  {
   "cell_type": "code",
   "execution_count": 9,
   "metadata": {},
   "outputs": [],
   "source": [
    "wdecay = [ 5e-5, 1e-5, 5e-6, 1e-6]\n",
    "drop_rate = [ 0.3]\n",
    "p = [ 0.3]\n",
    "cl_rate  = [0.1, 1e-2, 1e-3]\n",
    "temp = [0.1, 0.2, 0.5, 1, 10]\n",
    "reg = [0.1, 1e-2, 1e-3]"
   ]
  },
  {
   "cell_type": "code",
   "execution_count": 7,
   "metadata": {},
   "outputs": [],
   "source": [
    "from itertools import product\n",
    "\n",
    "lst_runs = []\n",
    "hyperparameters = [wdecay, drop_rate, p, cl_rate, temp, reg]\n",
    "for params in product(*hyperparameters):\n",
    "    wdecay, drop_rate, p, cl_rate, temp, reg = params\n",
    "    str_base = \"python main.py  --model=HGNN --dataset=ml-1m --lrate=0.001 --weight_decay={} --drop_rate={} --p={} --cl_rate={} --temp={} --reg={} --early_stopping_steps=50\".format(wdecay, drop_rate, p, cl_rate, temp, reg)\n",
    "    lst_runs.append(str_base)"
   ]
  },
  {
   "cell_type": "code",
   "execution_count": 8,
   "metadata": {},
   "outputs": [],
   "source": [
    "with open(\"run_hgnn_ml1m_1.sh\", \"w\") as f:\n",
    "    for run in lst_runs:\n",
    "        f.write(run + '\\n')"
   ]
  }
 ],
 "metadata": {
  "kernelspec": {
   "display_name": "hungvv",
   "language": "python",
   "name": "python3"
  },
  "language_info": {
   "codemirror_mode": {
    "name": "ipython",
    "version": 3
   },
   "file_extension": ".py",
   "mimetype": "text/x-python",
   "name": "python",
   "nbconvert_exporter": "python",
   "pygments_lexer": "ipython3",
   "version": "3.9.17"
  },
  "orig_nbformat": 4
 },
 "nbformat": 4,
 "nbformat_minor": 2
}
